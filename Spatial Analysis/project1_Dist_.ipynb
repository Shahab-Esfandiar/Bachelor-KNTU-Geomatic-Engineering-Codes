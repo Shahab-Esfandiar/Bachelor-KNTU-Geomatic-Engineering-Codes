{
 "cells": [
  {
   "attachments": {},
   "cell_type": "markdown",
   "id": "d2a03fff",
   "metadata": {},
   "source": [
    "# Project 1 : Compute Euclidean and Manhattan distances\n",
    "\n",
    "## Group 4 : Esfandiar_Babaii_Sharifi\n"
   ]
  },
  {
   "cell_type": "code",
   "execution_count": 16,
   "id": "9b2bc13b",
   "metadata": {},
   "outputs": [],
   "source": [
    "import math\n",
    "import numpy as np"
   ]
  },
  {
   "attachments": {},
   "cell_type": "markdown",
   "id": "a394bb9a",
   "metadata": {},
   "source": [
    "## Euclidean distance\n"
   ]
  },
  {
   "cell_type": "code",
   "execution_count": 17,
   "id": "f602e483",
   "metadata": {},
   "outputs": [],
   "source": [
    "elist = [[[1,4],[3,1]], [[5,9],[6,7]], [[2,3],[7,2]], [[8,6],[6,7]]]"
   ]
  },
  {
   "cell_type": "code",
   "execution_count": 18,
   "id": "c230346c",
   "metadata": {},
   "outputs": [
    {
     "name": "stdout",
     "output_type": "stream",
     "text": [
      "\n",
      " The Euclidean distance of our pair points is :\n",
      "\n",
      " Dist [[1, 4], [3, 1]] = [2.8284271247461903]\n",
      "\n",
      " Dist [[5, 9], [6, 7]] = [1.4142135623730951]\n",
      "\n",
      " Dist [[2, 3], [7, 2]] = [7.0710678118654755]\n",
      "\n",
      " Dist [[8, 6], [6, 7]] = [2.23606797749979]\n",
      "\n",
      "===================================================\n"
     ]
    }
   ],
   "source": [
    "def EuclideanDist(le = list) : # our function get a list with 3d array form\n",
    "   \n",
    "   edist = []\n",
    "\n",
    "   for i in range(len(le)) : # calculate 2d Euclidean distance for each pair point\n",
    "\n",
    "      edist.append([math.sqrt((le[i][0][0] - le[i][1][0]) ** 2 + (le[i][1][0] - le[i][1][1]) ** 2)])\n",
    "\n",
    "   print(\"\\n The Euclidean distance of our pair points is :\")               \n",
    "   \n",
    "   for i in range(len(edist)) :\n",
    "      print(\"\\n Dist\", le[i],\"=\", edist[i])\n",
    "\n",
    "EuclideanDist(elist)\n",
    "\n",
    "print('\\n===================================================')"
   ]
  },
  {
   "attachments": {},
   "cell_type": "markdown",
   "id": "cc69d693",
   "metadata": {},
   "source": [
    "## Manhattan distance\n"
   ]
  },
  {
   "cell_type": "code",
   "execution_count": 19,
   "id": "2ad24b5a",
   "metadata": {},
   "outputs": [],
   "source": [
    "mlist = [[[1,5], 0], [[6,3], 1], [[4,3], 1], [[2,9], 0], [[8,5], 1], [[7,2], 1]]"
   ]
  },
  {
   "cell_type": "code",
   "execution_count": 20,
   "id": "38aa8c04",
   "metadata": {},
   "outputs": [
    {
     "name": "stdout",
     "output_type": "stream",
     "text": [
      "\n",
      "-------------------------------------------------\n",
      "\n",
      " our open points is :\n",
      "\n",
      " [[6, 3], 1]\n",
      "\n",
      " [[4, 3], 1]\n",
      "\n",
      " [[8, 5], 1]\n",
      "\n",
      " [[7, 2], 1]\n",
      "\n",
      "-------------------------------------------------\n",
      "\n",
      " The Manhattan distance of our open points is =   12\n",
      "\n",
      "===================================================\n"
     ]
    }
   ],
   "source": [
    "def ManhattanDist(lm = list, b = int(input('\\n Please enter the binary number for open or close detection (1 or 0) : '))) : # our function get a list for first element and binary (0,1) for second element\n",
    "\n",
    "   mo_dist = 0\n",
    "   od = []\n",
    "\n",
    "   for i in range(len(lm)) : # loop for select open points\n",
    "\n",
    "      if lm[i][1] == b :\n",
    "         od.append(lm[i])\n",
    "   \n",
    "   print('\\n-------------------------------------------------') \n",
    "   print(\"\\n our open points is :\")\n",
    "\n",
    "   for i in range(len(od)) : # Show selected points\n",
    "      print(\"\\n\", od[i])\n",
    "\n",
    "   print('\\n-------------------------------------------------') \n",
    "\n",
    "   if len(od) == 1 :\n",
    "      print('\\n We have no distance to compute. ') \n",
    "      \n",
    "   else :   \n",
    "      \n",
    "      for i in range(len(od)) : # Calculate the sum of 2d manhattan distance\n",
    "            \n",
    "         mo_dist += abs(od[i][0][0] - od[i][0][1])\n",
    "\n",
    "      print(\"\\n The Manhattan distance of our open points is =  \", mo_dist)\n",
    "      \n",
    "\n",
    "ManhattanDist(mlist)     \n",
    "\n",
    "print('\\n===================================================')\n",
    "\n",
    "#end"
   ]
  }
 ],
 "metadata": {
  "kernelspec": {
   "display_name": "Python 3 (ipykernel)",
   "language": "python",
   "name": "python3"
  },
  "language_info": {
   "codemirror_mode": {
    "name": "ipython",
    "version": 3
   },
   "file_extension": ".py",
   "mimetype": "text/x-python",
   "name": "python",
   "nbconvert_exporter": "python",
   "pygments_lexer": "ipython3",
   "version": "3.11.2"
  }
 },
 "nbformat": 4,
 "nbformat_minor": 5
}
